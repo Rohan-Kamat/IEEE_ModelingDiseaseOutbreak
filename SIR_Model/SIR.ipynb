{
 "cells": [
  {
   "cell_type": "code",
   "execution_count": 1,
   "metadata": {},
   "outputs": [],
   "source": [
    "import pandas as pd\n",
    "import numpy as np\n",
    "import random\n",
    "import matplotlib.pyplot as plt\n",
    "import math"
   ]
  },
  {
   "cell_type": "code",
   "execution_count": 2,
   "metadata": {},
   "outputs": [
    {
     "name": "stdout",
     "output_type": "stream",
     "text": [
      "    Time   ID1   ID2 Class1 Class2\n",
      "0  31220  1558  1567     3B     3B\n",
      "1  31220  1560  1570     3B     3B\n",
      "2  31220  1567  1574     3B     3B\n",
      "3  31220  1632  1818     4B     4B\n",
      "4  31220  1632  1866     4B     4B\n",
      "5  31220  1673  1698     1B     1B\n",
      "6  31220  1819  1836     4B     4B\n",
      "7  31220  1819  1866     4B     4B\n",
      "8  31240  1558  1567     3B     3B\n",
      "9  31240  1567  1574     3B     3B\n",
      "     ID Class Gender\n",
      "0  1426    5B      M\n",
      "1  1427    5B      F\n",
      "2  1428    5B      M\n",
      "3  1429    5B      F\n",
      "4  1430    5B      M\n",
      "5  1431    5B      F\n",
      "6  1434    5B      F\n",
      "7  1435    5B      M\n",
      "8  1437    5B      F\n",
      "9  1439    5B      M\n"
     ]
    }
   ],
   "source": [
    "df = pd.read_csv(\"primaryschool.csv\",sep = \"\\t\",names = [\"Time\",\"ID1\",\"ID2\",\"Class1\",\"Class2\"])\n",
    "metadata = pd.read_csv(\"metadata.csv\",sep = \"\\t\",names = [\"ID\",\"Class\",\"Gender\"])\n",
    "print(df.head(10))\n",
    "print(metadata.head(10))"
   ]
  },
  {
   "cell_type": "code",
   "execution_count": 48,
   "metadata": {},
   "outputs": [],
   "source": [
    "class SIR:\n",
    "    # Lists storing susceptible,infected and resistant individuals at all times\n",
    "    sus = []\n",
    "    inf = []\n",
    "    res = []\n",
    "    \n",
    "    #Lists to store no. of susceptible, infected and resistant individuals per day\n",
    "    S = []\n",
    "    I = []\n",
    "    R = []\n",
    "    \n",
    "    #List to store timestamps per day\n",
    "    T = []\n",
    "    \n",
    "    #array to store status of each individual\n",
    "    status = []\n",
    "    \n",
    "    #array to store the time for which an infected individual has been infected\n",
    "    inf_time = []\n",
    "    \n",
    "    #storing the no. of susceptible, infected and resistant individuals\n",
    "    x = y = z = 0 \n",
    "    \n",
    "    def __init__(self,beta,gamma,init_inf,days):\n",
    "        self.beta = beta\n",
    "        self.gamma = gamma\n",
    "        self.msize = metadata.shape[0]\n",
    "        self.start_id = metadata.ID[0]\n",
    "        self.end_id = metadata.ID[self.msize - 1]\n",
    "        self.init_inf = init_inf\n",
    "        self.days = days\n",
    "        self.get_initial(self.end_id - self.start_id + 1)\n",
    "        self.S.append(self.x)\n",
    "        self.I.append(self.y)\n",
    "        self.R.append(self.z)\n",
    "        self.T.append(0)\n",
    "        \n",
    "    def get_initial(self,span):\n",
    "        \n",
    "        for i in range(span):\n",
    "            self.status.append(\"\")\n",
    "            self.inf_time.append(0.0)\n",
    "            \n",
    "        #Randomly selecting infected individuals\n",
    "        inf_sample = random.sample(range(self.msize),self.init_inf)\n",
    "        samp_index = 0\n",
    "        inf_sample.sort()\n",
    "        \n",
    "        for i in range(self.msize):\n",
    "            if samp_index<self.init_inf and i == inf_sample[samp_index]:\n",
    "                samp_index += 1\n",
    "                self.status[metadata.ID[i] - self.start_id] = \"I\"\n",
    "                self.inf.append(metadata['ID'].iloc[i])\n",
    "                self.y+=1\n",
    "            else:\n",
    "                self.status[metadata.ID[i] - self.start_id] = \"S\"\n",
    "                self.sus.append(metadata['ID'].iloc[i])\n",
    "                self.x+=1\n",
    "    \n",
    "    def prob(self,P,x):\n",
    "        if P*x >= 100:\n",
    "            P = 100 - math.pow((P*100),(1/((x + 2) - (1/P))))\n",
    "        else:\n",
    "            P = P*100*x\n",
    "        rand = random.randint(0,100)\n",
    "        if rand <= P:\n",
    "            return 1\n",
    "        else:\n",
    "            return 0\n",
    "        \n",
    "    def new_infected(self,beta,n):\n",
    "        if self.prob(beta,1):\n",
    "            self.status[n - self.start_id] = 'I'\n",
    "            self.sus.remove(n)\n",
    "            self.inf.append(n)\n",
    "            return 1\n",
    "        else:\n",
    "            return 0\n",
    "\n",
    "    def new_resistant(self,gamma):\n",
    "        count = 0\n",
    "        L = len(self.inf)\n",
    "        i = 0\n",
    "        while i<L:\n",
    "            time = self.inf_time[self.inf[i] - self.start_id]\n",
    "            if self.prob(gamma,time):\n",
    "                self.status[self.inf[i] - self.start_id] = 'R'\n",
    "                self.inf.pop(i)\n",
    "                L -= 1\n",
    "                self.res.append(i)\n",
    "                count += 1\n",
    "            i+=1\n",
    "        return count\n",
    "            \n",
    "    def run(self):\n",
    "        size = df.shape[0]\n",
    "        start = df.Time[0]\n",
    "        end = df.Time[size - 1]\n",
    "\n",
    "        Range = (end - start + 1)/20\n",
    "        per_day = Range//days\n",
    "\n",
    "        prev_time = start\n",
    "        no_sus = self.x\n",
    "        no_inf = self.y\n",
    "        no_res = self.z\n",
    "\n",
    "        inf_count = 0\n",
    "        time_count = 0\n",
    "        for i in range(size):\n",
    "            if prev_time != df.Time[i]:\n",
    "                no_sus -= inf_count\n",
    "                no_inf += inf_count\n",
    "                inf_count = 0\n",
    "\n",
    "                for j in self.inf:\n",
    "                    self.inf_time[j - start_id] += 1/per_day\n",
    "\n",
    "                res_count = self.new_resistant(self.gamma)\n",
    "                no_inf -= res_count\n",
    "                no_res += res_count\n",
    "\n",
    "\n",
    "                prev_time = df.Time[i]\n",
    "                time_count += 1\n",
    "                if time_count%per_day == 0 or i == size - 1:\n",
    "                    self.S.append(no_sus)\n",
    "                    self.I.append(no_inf)\n",
    "                    self.R.append(no_res)\n",
    "                    if i == size - 1 and time_count%per_day != 0:\n",
    "                        self.T.append(time_count//per_day + 1)\n",
    "                    else:\n",
    "                        self.T.append(time_count//per_day)\n",
    "\n",
    "            n1 = df.ID1[i]\n",
    "            n2 = df.ID2[i]\n",
    "            s1 = self.status[n1 - self.start_id]\n",
    "            s2 = self.status[n2 - self.start_id]\n",
    "            if s1 == \"S\" and s2 == \"I\":\n",
    "                inf_count += self.new_infected(self.beta,n1)\n",
    "            elif s2 == \"S\" and s1 == \"I\":\n",
    "                inf_count += self.new_infected(self.beta,n2)\n",
    "        \n",
    "        \n",
    "        "
   ]
  },
  {
   "cell_type": "code",
   "execution_count": 49,
   "metadata": {},
   "outputs": [],
   "source": [
    "beta = 0.8\n",
    "gamma = 1/25\n",
    "\n",
    "start_id = 1426\n",
    "end_id = 1922\n",
    "\n",
    "init_inf = 20\n",
    "\n",
    "days = 50\n",
    "model = SIR(beta,gamma,init_inf,days)\n",
    "model.run()"
   ]
  },
  {
   "cell_type": "code",
   "execution_count": 50,
   "metadata": {},
   "outputs": [
    {
     "name": "stdout",
     "output_type": "stream",
     "text": [
      "Final numbers\n",
      "Susceptible:  87\n",
      "Infected:  0\n",
      "Resistant:  155\n"
     ]
    },
    {
     "data": {
      "image/png": "[encoded data removed]",
      "text/plain": [
       "<Figure size 432x288 with 1 Axes>"
      ]
     },
     "metadata": {
      "needs_background": "light"
     },
     "output_type": "display_data"
    }
   ],
   "source": [
    "S = np.array(model.S)\n",
    "I = np.array(model.I)\n",
    "R = np.array(model.R)\n",
    "T = np.array(model.T)\n",
    "\n",
    "plt.clf()\n",
    "plt.plot(T,S,label = \"Susceptible\")\n",
    "plt.plot(T,I,label = \"Infected\")\n",
    "plt.plot(T,R,label = \"Resistant\")\n",
    "\n",
    "plt.xlabel(\"Days\")\n",
    "plt.ylabel(\"No. of individuals\")\n",
    "\n",
    "plt.legend()\n",
    "print(\"Final numbers\")\n",
    "print(\"Susceptible: \",model.S[-1])\n",
    "print(\"Infected: \",model.I[-1])\n",
    "print(\"Resistant: \",model.R[-1])\n",
    "del(model)"
   ]
  },
  {
   "cell_type": "code",
   "execution_count": 42,
   "metadata": {},
   "outputs": [
    {
     "ename": "NameError",
     "evalue": "name 'model' is not defined",
     "output_type": "error",
     "traceback": [
      "\u001b[1;31m---------------------------------------------------------------------------\u001b[0m",
      "\u001b[1;31mNameError\u001b[0m                                 Traceback (most recent call last)",
      "\u001b[1;32m<ipython-input-42-a469034db822>\u001b[0m in \u001b[0;36m<module>\u001b[1;34m\u001b[0m\n\u001b[1;32m----> 1\u001b[1;33m \u001b[0mprint\u001b[0m\u001b[1;33m(\u001b[0m\u001b[0mmodel\u001b[0m\u001b[1;33m.\u001b[0m\u001b[0mS\u001b[0m\u001b[1;33m[\u001b[0m\u001b[1;33m-\u001b[0m\u001b[1;36m1\u001b[0m\u001b[1;33m]\u001b[0m\u001b[1;33m)\u001b[0m\u001b[1;33m\u001b[0m\u001b[1;33m\u001b[0m\u001b[0m\n\u001b[0m",
      "\u001b[1;31mNameError\u001b[0m: name 'model' is not defined"
     ]
    }
   ],
   "source": [
    "print(model.S[-1])"
   ]
  },
  {
   "cell_type": "code",
   "execution_count": null,
   "metadata": {},
   "outputs": [],
   "source": []
  }
 ],
 "metadata": {
  "kernelspec": {
   "display_name": "Python 3",
   "language": "python",
   "name": "python3"
  },
  "language_info": {
   "codemirror_mode": {
    "name": "ipython",
    "version": 3
   },
   "file_extension": ".py",
   "mimetype": "text/x-python",
   "name": "python",
   "nbconvert_exporter": "python",
   "pygments_lexer": "ipython3",
   "version": "3.8.5"
  }
 },
 "nbformat": 4,
 "nbformat_minor": 4
}
